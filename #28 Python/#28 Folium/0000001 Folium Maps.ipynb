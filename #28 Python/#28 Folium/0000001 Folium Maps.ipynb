{
 "cells": [
  {
   "cell_type": "code",
   "execution_count": null,
   "id": "b04609b8-21f0-48b8-9fef-b5ae66f15e6d",
   "metadata": {},
   "outputs": [],
   "source": [
    "# Welcome to Reactive Jupyter"
   ]
  },
  {
   "cell_type": "code",
   "execution_count": null,
   "id": "cf5fda20-88c3-43ef-b71b-74648f2c1f6c",
   "metadata": {},
   "outputs": [],
   "source": [
    "# Welcome to Reactive Jupyter"
   ]
  },
  {
   "cell_type": "code",
   "execution_count": null,
   "id": "0cf40572-d31b-4d51-ade0-7e8953b35c06",
   "metadata": {},
   "outputs": [],
   "source": [
    "import folium"
   ]
  },
  {
   "cell_type": "code",
   "execution_count": null,
   "id": "5e6cc151-1aa7-4fbd-8edf-39b075d10322",
   "metadata": {},
   "outputs": [
    {
     "ename": "NameError",
     "evalue": "name 'location' is not defined",
     "output_type": "error",
     "traceback": [
      "\u001b[1;31m---------------------------------------------------------------------------\u001b[0m",
      "\u001b[1;31mNameError\u001b[0m                                 Traceback (most recent call last)",
      "File \u001b[1;32mc:\\Users\\Eduardo Boattini\\OneDrive\\GitHub_PROJECT\\#28 Python\\#28 Folium\\0000001 Folium Maps.py:1\u001b[0m\n\u001b[1;32m----> 1\u001b[0m mapObj \u001b[39m=\u001b[39m folium\u001b[39m.\u001b[39mmap(location)\n",
      "\u001b[1;31mNameError\u001b[0m: name 'location' is not defined"
     ]
    }
   ],
   "source": [
    "mapObj = folium.map(location)"
   ]
  }
 ],
 "metadata": {
  "kernelspec": {
   "display_name": "base",
   "language": "python",
   "name": "python3"
  },
  "language_info": {
   "codemirror_mode": {
    "name": "ipython",
    "version": 3
   },
   "file_extension": ".py",
   "mimetype": "text/x-python",
   "name": "python",
   "nbconvert_exporter": "python",
   "pygments_lexer": "ipython3",
   "version": "3.12.6"
  }
 },
 "nbformat": 4,
 "nbformat_minor": 2
}
